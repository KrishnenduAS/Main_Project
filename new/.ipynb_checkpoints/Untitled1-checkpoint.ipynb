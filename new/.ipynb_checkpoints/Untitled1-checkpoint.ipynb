{
 "cells": [
  {
   "cell_type": "code",
   "execution_count": 1,
   "id": "c817b2ee",
   "metadata": {},
   "outputs": [
    {
     "name": "stderr",
     "output_type": "stream",
     "text": [
      "Matplotlib is building the font cache; this may take a moment.\n"
     ]
    },
    {
     "ename": "ModuleNotFoundError",
     "evalue": "No module named 'cv2'",
     "output_type": "error",
     "traceback": [
      "\u001b[1;31m---------------------------------------------------------------------------\u001b[0m",
      "\u001b[1;31mModuleNotFoundError\u001b[0m                       Traceback (most recent call last)",
      "Input \u001b[1;32mIn [1]\u001b[0m, in \u001b[0;36m<cell line: 6>\u001b[1;34m()\u001b[0m\n\u001b[0;32m      4\u001b[0m \u001b[38;5;28;01mfrom\u001b[39;00m \u001b[38;5;21;01mmatplotlib\u001b[39;00m \u001b[38;5;28;01mimport\u001b[39;00m gridspec\n\u001b[0;32m      5\u001b[0m \u001b[38;5;28;01mimport\u001b[39;00m \u001b[38;5;21;01mos\u001b[39;00m \n\u001b[1;32m----> 6\u001b[0m \u001b[38;5;28;01mimport\u001b[39;00m \u001b[38;5;21;01mcv2\u001b[39;00m\n\u001b[0;32m      7\u001b[0m \u001b[38;5;28;01mfrom\u001b[39;00m \u001b[38;5;21;01mtqdm\u001b[39;00m \u001b[38;5;28;01mimport\u001b[39;00m tqdm_notebook \u001b[38;5;28;01mas\u001b[39;00m tqdm \n\u001b[0;32m      8\u001b[0m \u001b[38;5;28;01mimport\u001b[39;00m \u001b[38;5;21;01mseaborn\u001b[39;00m \u001b[38;5;28;01mas\u001b[39;00m \u001b[38;5;21;01msns\u001b[39;00m\n",
      "\u001b[1;31mModuleNotFoundError\u001b[0m: No module named 'cv2'"
     ]
    }
   ],
   "source": [
    "import pandas as pd\n",
    "import numpy as np\n",
    "import matplotlib.pyplot as plt\n",
    "from matplotlib import gridspec\n",
    "import os \n",
    "import cv2\n",
    "from tqdm import tqdm_notebook as tqdm \n",
    "import seaborn as sns\n",
    "import joblib \n",
    "import warnings\n",
    "import math\n",
    "import pickle as pk\n",
    "import datetime\n",
    "from sklearn.utils import shuffle\n",
    "from imageio import imread\n",
    "import imageio\n",
    "import tensorflow as tf\n",
    "import tensorflow.keras as keras\n",
    "from tensorflow.keras.models import load_model\n",
    "from tensorflow.keras.utils import to_categorical\n",
    "from tensorflow.keras.preprocessing.image import ImageDataGenerator, array_to_img, img_to_array, load_img"
   ]
  },
  {
   "cell_type": "code",
   "execution_count": 6,
   "id": "44c747e8",
   "metadata": {},
   "outputs": [
    {
     "name": "stdout",
     "output_type": "stream",
     "text": [
      "WARNING:tensorflow:5 out of the last 5 calls to <function Model.make_predict_function.<locals>.predict_function at 0x0000014D96D7D708> triggered tf.function retracing. Tracing is expensive and the excessive number of tracings could be due to (1) creating @tf.function repeatedly in a loop, (2) passing tensors with different shapes, (3) passing Python objects instead of tensors. For (1), please define your @tf.function outside of the loop. For (2), @tf.function has reduce_retracing=True option that can avoid unnecessary retracing. For (3), please refer to https://www.tensorflow.org/guide/function#controlling_retracing and https://www.tensorflow.org/api_docs/python/tf/function for  more details.\n",
      "1/1 [==============================] - 1s 1s/step\n"
     ]
    },
    {
     "data": {
      "text/plain": [
       "<Figure size 720x720 with 0 Axes>"
      ]
     },
     "metadata": {},
     "output_type": "display_data"
    },
    {
     "data": {
      "image/png": "[encoded data removed]",
      "text/plain": [
       "<Figure size 360x360 with 1 Axes>"
      ]
     },
     "metadata": {
      "needs_background": "light"
     },
     "output_type": "display_data"
    }
   ],
   "source": [
    "from tkinter import *\n",
    "from tkinter import ttk\n",
    "from tkinter import filedialog\n",
    "#Create an instance of tkinter frame or window\n",
    "win= Tk()\n",
    "win.geometry(\"750x150\")\n",
    "win.configure(bg='white')\n",
    "from PIL import ImageTk, Image\n",
    "#Define a function to Opening the specific file using filedialog\n",
    "\n",
    "def pred():\n",
    "    my_img = ImageTk.PhotoImage(Image.open('input.png'))\n",
    "    my_lbl2 = Label(image=my_img).place(x=5,y=150)\n",
    "    model = tf.keras.models.load_model('model_vgg16_unet_tf_version3')\n",
    "    input_img =[]\n",
    "    input_img_array = []\n",
    "    mask_array = []\n",
    "    Predicted_mask = []\n",
    "    \n",
    "    image = load_img(path)\n",
    "    image_arr = img_to_array(image)\n",
    "    image_arr=np.array(image_arr).reshape(-1, 512, 512, 3)/255\n",
    "    #tf_image = tf.data.Dataset.from_tensor_slices(image_arr)\n",
    "    input_img_array.append(image_arr)\n",
    "    output = model.predict(image_arr).reshape(512,512)\n",
    "    input_img.append(image)\n",
    "    Predicted_mask.append(output)\n",
    "    #fig, ax = plt.subplots(1,1,figsize=(10, 10))   \n",
    "    #ax[0].imshow(input_img[0])\n",
    "    #ax[0].set_title(\"Input Image\")\n",
    "    plt.imshow(Predicted_mask[0])\n",
    "    plt.title(\"Predicted Mask\")\n",
    "    plt.savefig('imgnew.png')\n",
    "    my_img1 = ImageTk.PhotoImage(Image.open('imgnew.png'))\n",
    "    my_lbl21 = Label(image=my_img1).place(x=450,y=150)\n",
    "        \n",
    "\n",
    "    \n",
    "def open_files():\n",
    "    global path\n",
    "    path= filedialog.askopenfilename(title=\"Select a file\", filetypes=((\"image files\",\"*.png\"),(\"all files\",\"*.*\")))\n",
    "    #file= open(path,'r')\n",
    "    #label.config(text=txt, font=('Courier 13 bold'))\n",
    "    #file.close()\n",
    "    #button.config(state=DISABLED)\n",
    "    win.geometry(\"900x750\")\n",
    "    #plt.figure(figsize=(10, 10))\n",
    "    input_img =[]\n",
    "    \n",
    "    image = load_img(path)\n",
    "    input_img.append(image)\n",
    "    plt.figure(figsize=(5, 5))\n",
    "    plt.imshow(input_img[0])\n",
    "    plt.savefig('input.png')\n",
    "    my_img = ImageTk.PhotoImage(Image.open('input.png'))\n",
    "    my_lbl2 = Label(image=my_img).place(x=5,y=150)\n",
    "    button1=ttk.Button(win, text=\"predict\",command=pred)\n",
    "    button1.place(x=450,y=80)\n",
    "#Create an Empty Label to Read the content of the File\n",
    "label= Label(win,text=\"Image Inpainting Detection\", font=('Courier 13 bold'))\n",
    "label.pack()\n",
    "#Create a button for opening files\n",
    "button=ttk.Button(win, text=\"Open\",command=open_files)\n",
    "button.place(x=350,y=80)\n",
    "\n",
    "win.mainloop()"
   ]
  },
  {
   "cell_type": "code",
   "execution_count": null,
   "id": "67f598d8",
   "metadata": {},
   "outputs": [],
   "source": []
  },
  {
   "cell_type": "code",
   "execution_count": null,
   "id": "ee59e6f4",
   "metadata": {},
   "outputs": [],
   "source": []
  }
 ],
 "metadata": {
  "kernelspec": {
   "display_name": "Python 3 (ipykernel)",
   "language": "python",
   "name": "python3"
  },
  "language_info": {
   "codemirror_mode": {
    "name": "ipython",
    "version": 3
   },
   "file_extension": ".py",
   "mimetype": "text/x-python",
   "name": "python",
   "nbconvert_exporter": "python",
   "pygments_lexer": "ipython3",
   "version": "3.9.12"
  }
 },
 "nbformat": 4,
 "nbformat_minor": 5
}
